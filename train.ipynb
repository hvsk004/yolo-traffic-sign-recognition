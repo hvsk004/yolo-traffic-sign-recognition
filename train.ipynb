{
 "cells": [
  {
   "cell_type": "code",
   "execution_count": null,
   "id": "122e10a7-79cd-4a9d-bf3d-3d2791bc7cf4",
   "metadata": {},
   "outputs": [],
   "source": [
    "pip install kagglehub ultralytics"
   ]
  },
  {
   "cell_type": "code",
   "execution_count": null,
   "id": "24df5807-6e86-41cb-b128-2c53c11d86cb",
   "metadata": {},
   "outputs": [],
   "source": [
    "import kagglehub\n",
    "from pathlib import Path\n",
    "\n",
    "# Download the latest version of the dataset\n",
    "path = kagglehub.dataset_download(\"doganozcan/traffic-sign-gtrb\")\n",
    "\n",
    "# Convert the path to a Path object if it's not already one\n",
    "path = Path(path)\n",
    "\n",
    "# Create a Path object for 'data.yaml'\n",
    "data_yaml = path / \"data.yaml\"\n",
    "\n",
    "print(\"Path to 'data.yaml':\", data_yaml)\n"
   ]
  },
  {
   "cell_type": "code",
   "execution_count": null,
   "id": "ee356fe9-45e1-4102-8d79-9caf9493c585",
   "metadata": {},
   "outputs": [],
   "source": [
    "with open(data_yaml, 'r') as file:\n",
    "    contents = file.read()\n",
    "    print(contents)\n"
   ]
  },
  {
   "cell_type": "code",
   "execution_count": null,
   "id": "02eeccfa-2645-4f83-b663-77ac8c12e9c3",
   "metadata": {},
   "outputs": [],
   "source": [
    "with open(data_yaml, \"r\") as file:\n",
    "    data = file.read()\n",
    "    \n",
    "data = data.replace(\"train: /kaggle/input/traffic-sign/train/images\", f\"train: {'train'}\")\n",
    "data = data.replace(\"val: /kaggle/input/traffic-sign/test/images\", f\"val: {'test'}\")\n",
    "    \n",
    "with open(data_yaml, \"w\") as file:\n",
    "    file.write(data)\n",
    "\n",
    "#print the data.yaml file\n",
    "print(data)"
   ]
  },
  {
   "cell_type": "code",
   "execution_count": null,
   "id": "5acf8266-3970-492b-960b-21ac58502ca6",
   "metadata": {},
   "outputs": [],
   "source": [
    "with open(data_yaml, 'r') as file:\n",
    "    contents = file.read()\n",
    "    print(contents)\n"
   ]
  },
  {
   "cell_type": "code",
   "execution_count": null,
   "id": "ad95af8f-3966-476b-bac0-b26b77bc2530",
   "metadata": {},
   "outputs": [],
   "source": [
    "from ultralytics import YOLO\n",
    "\n",
    "YOLO_MODEL = \"yolo11n.pt\"\n",
    "\n",
    "model = YOLO(YOLO_MODEL)\n",
    "\n",
    "results = model.train(\n",
    "    data=str(data_yaml),\n",
    "    epochs=50,\n",
    "    imgsz=640,\n",
    "    device='cuda',\n",
    "    batch=-1,\n",
    "    amp=True,\n",
    "    cache='disk',\n",
    "    save=True,\n",
    "    pretrained=True,\n",
    "    project=\"./yolo-training\",\n",
    "    name=\"yolo_traffic_sign_recognition\",\n",
    "    exist_ok=True,\n",
    ")\n",
    "\n",
    "print(\"Training Complete\")\n",
    "model.save(\"Final.pt\")\n"
   ]
  }
 ],
 "metadata": {
  "kernelspec": {
   "display_name": "Python 3 (ipykernel)",
   "language": "python",
   "name": "python3"
  },
  "language_info": {
   "codemirror_mode": {
    "name": "ipython",
    "version": 3
   },
   "file_extension": ".py",
   "mimetype": "text/x-python",
   "name": "python",
   "nbconvert_exporter": "python",
   "pygments_lexer": "ipython3",
   "version": "3.12.3"
  }
 },
 "nbformat": 4,
 "nbformat_minor": 5
}
