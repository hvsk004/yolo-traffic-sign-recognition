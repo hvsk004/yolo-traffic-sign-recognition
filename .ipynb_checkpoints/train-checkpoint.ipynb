{
 "cells": [
  {
   "cell_type": "code",
   "execution_count": 6,
   "id": "122e10a7-79cd-4a9d-bf3d-3d2791bc7cf4",
   "metadata": {},
   "outputs": [
    {
     "name": "stdout",
     "output_type": "stream",
     "text": [
      "Requirement already satisfied: kagglehub in /home/hv/AI_ML/AI-ML/lib/python3.12/site-packages (0.3.6)\n",
      "Requirement already satisfied: ultralytics in /home/hv/AI_ML/AI-ML/lib/python3.12/site-packages (8.3.53)\n",
      "Requirement already satisfied: packaging in /home/hv/AI_ML/AI-ML/lib/python3.12/site-packages (from kagglehub) (24.2)\n",
      "Requirement already satisfied: requests in /home/hv/AI_ML/AI-ML/lib/python3.12/site-packages (from kagglehub) (2.32.3)\n",
      "Requirement already satisfied: tqdm in /home/hv/AI_ML/AI-ML/lib/python3.12/site-packages (from kagglehub) (4.67.1)\n",
      "Requirement already satisfied: numpy>=1.23.0 in /home/hv/AI_ML/AI-ML/lib/python3.12/site-packages (from ultralytics) (2.2.1)\n",
      "Requirement already satisfied: matplotlib>=3.3.0 in /home/hv/AI_ML/AI-ML/lib/python3.12/site-packages (from ultralytics) (3.10.0)\n",
      "Requirement already satisfied: opencv-python>=4.6.0 in /home/hv/AI_ML/AI-ML/lib/python3.12/site-packages (from ultralytics) (4.10.0.84)\n",
      "Requirement already satisfied: pillow>=7.1.2 in /home/hv/AI_ML/AI-ML/lib/python3.12/site-packages (from ultralytics) (11.0.0)\n",
      "Requirement already satisfied: pyyaml>=5.3.1 in /home/hv/AI_ML/AI-ML/lib/python3.12/site-packages (from ultralytics) (6.0.2)\n",
      "Requirement already satisfied: scipy>=1.4.1 in /home/hv/AI_ML/AI-ML/lib/python3.12/site-packages (from ultralytics) (1.14.1)\n",
      "Requirement already satisfied: torch>=1.8.0 in /home/hv/AI_ML/AI-ML/lib/python3.12/site-packages (from ultralytics) (2.5.1)\n",
      "Requirement already satisfied: torchvision>=0.9.0 in /home/hv/AI_ML/AI-ML/lib/python3.12/site-packages (from ultralytics) (0.20.1)\n",
      "Requirement already satisfied: psutil in /home/hv/AI_ML/AI-ML/lib/python3.12/site-packages (from ultralytics) (6.1.1)\n",
      "Requirement already satisfied: py-cpuinfo in /home/hv/AI_ML/AI-ML/lib/python3.12/site-packages (from ultralytics) (9.0.0)\n",
      "Requirement already satisfied: pandas>=1.1.4 in /home/hv/AI_ML/AI-ML/lib/python3.12/site-packages (from ultralytics) (2.2.3)\n",
      "Requirement already satisfied: seaborn>=0.11.0 in /home/hv/AI_ML/AI-ML/lib/python3.12/site-packages (from ultralytics) (0.13.2)\n",
      "Requirement already satisfied: ultralytics-thop>=2.0.0 in /home/hv/AI_ML/AI-ML/lib/python3.12/site-packages (from ultralytics) (2.0.13)\n",
      "Requirement already satisfied: contourpy>=1.0.1 in /home/hv/AI_ML/AI-ML/lib/python3.12/site-packages (from matplotlib>=3.3.0->ultralytics) (1.3.1)\n",
      "Requirement already satisfied: cycler>=0.10 in /home/hv/AI_ML/AI-ML/lib/python3.12/site-packages (from matplotlib>=3.3.0->ultralytics) (0.12.1)\n",
      "Requirement already satisfied: fonttools>=4.22.0 in /home/hv/AI_ML/AI-ML/lib/python3.12/site-packages (from matplotlib>=3.3.0->ultralytics) (4.55.3)\n",
      "Requirement already satisfied: kiwisolver>=1.3.1 in /home/hv/AI_ML/AI-ML/lib/python3.12/site-packages (from matplotlib>=3.3.0->ultralytics) (1.4.7)\n",
      "Requirement already satisfied: pyparsing>=2.3.1 in /home/hv/AI_ML/AI-ML/lib/python3.12/site-packages (from matplotlib>=3.3.0->ultralytics) (3.2.0)\n",
      "Requirement already satisfied: python-dateutil>=2.7 in /home/hv/AI_ML/AI-ML/lib/python3.12/site-packages (from matplotlib>=3.3.0->ultralytics) (2.9.0.post0)\n",
      "Requirement already satisfied: pytz>=2020.1 in /home/hv/AI_ML/AI-ML/lib/python3.12/site-packages (from pandas>=1.1.4->ultralytics) (2024.2)\n",
      "Requirement already satisfied: tzdata>=2022.7 in /home/hv/AI_ML/AI-ML/lib/python3.12/site-packages (from pandas>=1.1.4->ultralytics) (2024.2)\n",
      "Requirement already satisfied: charset-normalizer<4,>=2 in /home/hv/AI_ML/AI-ML/lib/python3.12/site-packages (from requests->kagglehub) (3.4.0)\n",
      "Requirement already satisfied: idna<4,>=2.5 in /home/hv/AI_ML/AI-ML/lib/python3.12/site-packages (from requests->kagglehub) (3.10)\n",
      "Requirement already satisfied: urllib3<3,>=1.21.1 in /home/hv/AI_ML/AI-ML/lib/python3.12/site-packages (from requests->kagglehub) (2.3.0)\n",
      "Requirement already satisfied: certifi>=2017.4.17 in /home/hv/AI_ML/AI-ML/lib/python3.12/site-packages (from requests->kagglehub) (2024.12.14)\n",
      "Requirement already satisfied: filelock in /home/hv/AI_ML/AI-ML/lib/python3.12/site-packages (from torch>=1.8.0->ultralytics) (3.16.1)\n",
      "Requirement already satisfied: typing-extensions>=4.8.0 in /home/hv/AI_ML/AI-ML/lib/python3.12/site-packages (from torch>=1.8.0->ultralytics) (4.12.2)\n",
      "Requirement already satisfied: networkx in /home/hv/AI_ML/AI-ML/lib/python3.12/site-packages (from torch>=1.8.0->ultralytics) (3.4.2)\n",
      "Requirement already satisfied: jinja2 in /home/hv/AI_ML/AI-ML/lib/python3.12/site-packages (from torch>=1.8.0->ultralytics) (3.1.5)\n",
      "Requirement already satisfied: fsspec in /home/hv/AI_ML/AI-ML/lib/python3.12/site-packages (from torch>=1.8.0->ultralytics) (2024.12.0)\n",
      "Requirement already satisfied: nvidia-cuda-nvrtc-cu12==12.4.127 in /home/hv/AI_ML/AI-ML/lib/python3.12/site-packages (from torch>=1.8.0->ultralytics) (12.4.127)\n",
      "Requirement already satisfied: nvidia-cuda-runtime-cu12==12.4.127 in /home/hv/AI_ML/AI-ML/lib/python3.12/site-packages (from torch>=1.8.0->ultralytics) (12.4.127)\n",
      "Requirement already satisfied: nvidia-cuda-cupti-cu12==12.4.127 in /home/hv/AI_ML/AI-ML/lib/python3.12/site-packages (from torch>=1.8.0->ultralytics) (12.4.127)\n",
      "Requirement already satisfied: nvidia-cudnn-cu12==9.1.0.70 in /home/hv/AI_ML/AI-ML/lib/python3.12/site-packages (from torch>=1.8.0->ultralytics) (9.1.0.70)\n",
      "Requirement already satisfied: nvidia-cublas-cu12==12.4.5.8 in /home/hv/AI_ML/AI-ML/lib/python3.12/site-packages (from torch>=1.8.0->ultralytics) (12.4.5.8)\n",
      "Requirement already satisfied: nvidia-cufft-cu12==11.2.1.3 in /home/hv/AI_ML/AI-ML/lib/python3.12/site-packages (from torch>=1.8.0->ultralytics) (11.2.1.3)\n",
      "Requirement already satisfied: nvidia-curand-cu12==10.3.5.147 in /home/hv/AI_ML/AI-ML/lib/python3.12/site-packages (from torch>=1.8.0->ultralytics) (10.3.5.147)\n",
      "Requirement already satisfied: nvidia-cusolver-cu12==11.6.1.9 in /home/hv/AI_ML/AI-ML/lib/python3.12/site-packages (from torch>=1.8.0->ultralytics) (11.6.1.9)\n",
      "Requirement already satisfied: nvidia-cusparse-cu12==12.3.1.170 in /home/hv/AI_ML/AI-ML/lib/python3.12/site-packages (from torch>=1.8.0->ultralytics) (12.3.1.170)\n",
      "Requirement already satisfied: nvidia-nccl-cu12==2.21.5 in /home/hv/AI_ML/AI-ML/lib/python3.12/site-packages (from torch>=1.8.0->ultralytics) (2.21.5)\n",
      "Requirement already satisfied: nvidia-nvtx-cu12==12.4.127 in /home/hv/AI_ML/AI-ML/lib/python3.12/site-packages (from torch>=1.8.0->ultralytics) (12.4.127)\n",
      "Requirement already satisfied: nvidia-nvjitlink-cu12==12.4.127 in /home/hv/AI_ML/AI-ML/lib/python3.12/site-packages (from torch>=1.8.0->ultralytics) (12.4.127)\n",
      "Requirement already satisfied: triton==3.1.0 in /home/hv/AI_ML/AI-ML/lib/python3.12/site-packages (from torch>=1.8.0->ultralytics) (3.1.0)\n",
      "Requirement already satisfied: setuptools in /home/hv/AI_ML/AI-ML/lib/python3.12/site-packages (from torch>=1.8.0->ultralytics) (75.6.0)\n",
      "Requirement already satisfied: sympy==1.13.1 in /home/hv/AI_ML/AI-ML/lib/python3.12/site-packages (from torch>=1.8.0->ultralytics) (1.13.1)\n",
      "Requirement already satisfied: mpmath<1.4,>=1.1.0 in /home/hv/AI_ML/AI-ML/lib/python3.12/site-packages (from sympy==1.13.1->torch>=1.8.0->ultralytics) (1.3.0)\n",
      "Requirement already satisfied: six>=1.5 in /home/hv/AI_ML/AI-ML/lib/python3.12/site-packages (from python-dateutil>=2.7->matplotlib>=3.3.0->ultralytics) (1.17.0)\n",
      "Requirement already satisfied: MarkupSafe>=2.0 in /home/hv/AI_ML/AI-ML/lib/python3.12/site-packages (from jinja2->torch>=1.8.0->ultralytics) (3.0.2)\n",
      "Note: you may need to restart the kernel to use updated packages.\n"
     ]
    }
   ],
   "source": [
    "pip install kagglehub ultralytics"
   ]
  },
  {
   "cell_type": "code",
   "execution_count": 10,
   "id": "24df5807-6e86-41cb-b128-2c53c11d86cb",
   "metadata": {},
   "outputs": [
    {
     "name": "stdout",
     "output_type": "stream",
     "text": [
      "Path to 'data.yaml': /home/hv/.cache/kagglehub/datasets/doganozcan/traffic-sign-gtrb/versions/1/data.yaml\n"
     ]
    }
   ],
   "source": [
    "import kagglehub\n",
    "from pathlib import Path\n",
    "\n",
    "# Download the latest version of the dataset\n",
    "path = kagglehub.dataset_download(\"doganozcan/traffic-sign-gtrb\")\n",
    "\n",
    "# Convert the path to a Path object if it's not already one\n",
    "path = Path(path)\n",
    "\n",
    "# Create a Path object for 'data.yaml'\n",
    "data_yaml = path / \"data.yaml\"\n",
    "\n",
    "print(\"Path to 'data.yaml':\", data_yaml)\n"
   ]
  },
  {
   "cell_type": "code",
   "execution_count": 11,
   "id": "ee356fe9-45e1-4102-8d79-9caf9493c585",
   "metadata": {},
   "outputs": [
    {
     "name": "stdout",
     "output_type": "stream",
     "text": [
      "train: /kaggle/input/traffic-sign/train/images\n",
      "val: /kaggle/input/traffic-sign/test/images\n",
      "\n",
      "nc: 43\n",
      "names: [\n",
      "    '20_speed',\n",
      "    '30_speed',\n",
      "    '50_speed',\n",
      "    '60_speed',\n",
      "    '70_speed',\n",
      "    '80_speed',\n",
      "    '80_lifted',\n",
      "    '100_speed',\n",
      "    '120_speed',\n",
      "    'no_overtaking_general',\n",
      "    'no_overtaking_trucks',\n",
      "    'right_of_way_crossing',\n",
      "    'right_of_way_general',\n",
      "    'give_way',\n",
      "    'stop',\n",
      "    'no_way_general',\n",
      "    'no_way_trucks',\n",
      "    'no_way_one_way',\n",
      "    'attention_general',\n",
      "    'attention_left_turn',\n",
      "    'attention_right_turn',\n",
      "    'attention_curvy',\n",
      "    'attention_bumpers',\n",
      "    'attention_slippery',\n",
      "    'attention_bottleneck',\n",
      "    'attention_construction',\n",
      "    'attention_traffic_light',\n",
      "    'attention_pedestrian',\n",
      "    'attention_children',\n",
      "    'attention_bikes',\n",
      "    'attention_snowflake',\n",
      "    'attention_deer',\n",
      "    'lifted_general',\n",
      "    'turn_right',\n",
      "    'turn_left',\n",
      "    'turn_straight',\n",
      "    'turn_straight_right',\n",
      "    'turn_straight_left',\n",
      "    'turn_right_down',\n",
      "    'turn_left_down',\n",
      "    'turn_circle',\n",
      "    'lifted_no_overtaking_general',\n",
      "    'lifted_no_overtaking_trucks']\n"
     ]
    }
   ],
   "source": [
    "with open(data_yaml, 'r') as file:\n",
    "    contents = file.read()\n",
    "    print(contents)\n"
   ]
  },
  {
   "cell_type": "code",
   "execution_count": 16,
   "id": "02eeccfa-2645-4f83-b663-77ac8c12e9c3",
   "metadata": {},
   "outputs": [
    {
     "name": "stdout",
     "output_type": "stream",
     "text": [
      "train: train\n",
      "val: test\n",
      "\n",
      "nc: 43\n",
      "names: [\n",
      "    '20_speed',\n",
      "    '30_speed',\n",
      "    '50_speed',\n",
      "    '60_speed',\n",
      "    '70_speed',\n",
      "    '80_speed',\n",
      "    '80_lifted',\n",
      "    '100_speed',\n",
      "    '120_speed',\n",
      "    'no_overtaking_general',\n",
      "    'no_overtaking_trucks',\n",
      "    'right_of_way_crossing',\n",
      "    'right_of_way_general',\n",
      "    'give_way',\n",
      "    'stop',\n",
      "    'no_way_general',\n",
      "    'no_way_trucks',\n",
      "    'no_way_one_way',\n",
      "    'attention_general',\n",
      "    'attention_left_turn',\n",
      "    'attention_right_turn',\n",
      "    'attention_curvy',\n",
      "    'attention_bumpers',\n",
      "    'attention_slippery',\n",
      "    'attention_bottleneck',\n",
      "    'attention_construction',\n",
      "    'attention_traffic_light',\n",
      "    'attention_pedestrian',\n",
      "    'attention_children',\n",
      "    'attention_bikes',\n",
      "    'attention_snowflake',\n",
      "    'attention_deer',\n",
      "    'lifted_general',\n",
      "    'turn_right',\n",
      "    'turn_left',\n",
      "    'turn_straight',\n",
      "    'turn_straight_right',\n",
      "    'turn_straight_left',\n",
      "    'turn_right_down',\n",
      "    'turn_left_down',\n",
      "    'turn_circle',\n",
      "    'lifted_no_overtaking_general',\n",
      "    'lifted_no_overtaking_trucks']\n"
     ]
    }
   ],
   "source": [
    "with open(data_yaml, \"r\") as file:\n",
    "    data = file.read()\n",
    "    \n",
    "data = data.replace(\"train: /kaggle/input/traffic-sign/train/images\", f\"train: {'train'}\")\n",
    "data = data.replace(\"val: /kaggle/input/traffic-sign/test/images\", f\"val: {'test'}\")\n",
    "    \n",
    "with open(data_yaml, \"w\") as file:\n",
    "    file.write(data)\n",
    "\n",
    "#print the data.yaml file\n",
    "print(data)"
   ]
  },
  {
   "cell_type": "code",
   "execution_count": 17,
   "id": "5acf8266-3970-492b-960b-21ac58502ca6",
   "metadata": {},
   "outputs": [
    {
     "name": "stdout",
     "output_type": "stream",
     "text": [
      "train: train\n",
      "val: test\n",
      "\n",
      "nc: 43\n",
      "names: [\n",
      "    '20_speed',\n",
      "    '30_speed',\n",
      "    '50_speed',\n",
      "    '60_speed',\n",
      "    '70_speed',\n",
      "    '80_speed',\n",
      "    '80_lifted',\n",
      "    '100_speed',\n",
      "    '120_speed',\n",
      "    'no_overtaking_general',\n",
      "    'no_overtaking_trucks',\n",
      "    'right_of_way_crossing',\n",
      "    'right_of_way_general',\n",
      "    'give_way',\n",
      "    'stop',\n",
      "    'no_way_general',\n",
      "    'no_way_trucks',\n",
      "    'no_way_one_way',\n",
      "    'attention_general',\n",
      "    'attention_left_turn',\n",
      "    'attention_right_turn',\n",
      "    'attention_curvy',\n",
      "    'attention_bumpers',\n",
      "    'attention_slippery',\n",
      "    'attention_bottleneck',\n",
      "    'attention_construction',\n",
      "    'attention_traffic_light',\n",
      "    'attention_pedestrian',\n",
      "    'attention_children',\n",
      "    'attention_bikes',\n",
      "    'attention_snowflake',\n",
      "    'attention_deer',\n",
      "    'lifted_general',\n",
      "    'turn_right',\n",
      "    'turn_left',\n",
      "    'turn_straight',\n",
      "    'turn_straight_right',\n",
      "    'turn_straight_left',\n",
      "    'turn_right_down',\n",
      "    'turn_left_down',\n",
      "    'turn_circle',\n",
      "    'lifted_no_overtaking_general',\n",
      "    'lifted_no_overtaking_trucks']\n"
     ]
    }
   ],
   "source": [
    "with open(data_yaml, 'r') as file:\n",
    "    contents = file.read()\n",
    "    print(contents)\n"
   ]
  },
  {
   "cell_type": "code",
   "execution_count": 22,
   "id": "ad95af8f-3966-476b-bac0-b26b77bc2530",
   "metadata": {},
   "outputs": [
    {
     "name": "stdout",
     "output_type": "stream",
     "text": [
      "Ultralytics 8.3.53 🚀 Python-3.12.3 torch-2.5.1+cu124 CUDA:0 (NVIDIA GeForce RTX 3050 Laptop GPU, 4096MiB)\n",
      "\u001b[34m\u001b[1mengine/trainer: \u001b[0mtask=detect, mode=train, model=yolo11n.pt, data=/home/hv/.cache/kagglehub/datasets/doganozcan/traffic-sign-gtrb/versions/1/data.yaml, epochs=50, time=None, patience=100, batch=-1, imgsz=640, save=True, save_period=-1, cache=disk, device=cuda, workers=8, project=./yolo-training, name=yolo_traffic_sign_recognition, exist_ok=True, pretrained=True, optimizer=auto, verbose=True, seed=0, deterministic=True, single_cls=False, rect=False, cos_lr=False, close_mosaic=10, resume=False, amp=True, fraction=1.0, profile=False, freeze=None, multi_scale=False, overlap_mask=True, mask_ratio=4, dropout=0.0, val=True, split=val, save_json=False, save_hybrid=False, conf=None, iou=0.7, max_det=300, half=False, dnn=False, plots=True, source=None, vid_stride=1, stream_buffer=False, visualize=False, augment=False, agnostic_nms=False, classes=None, retina_masks=False, embed=None, show=False, save_frames=False, save_txt=False, save_conf=False, save_crop=False, show_labels=True, show_conf=True, show_boxes=True, line_width=None, format=torchscript, keras=False, optimize=False, int8=False, dynamic=False, simplify=True, opset=None, workspace=None, nms=False, lr0=0.01, lrf=0.01, momentum=0.937, weight_decay=0.0005, warmup_epochs=3.0, warmup_momentum=0.8, warmup_bias_lr=0.1, box=7.5, cls=0.5, dfl=1.5, pose=12.0, kobj=1.0, nbs=64, hsv_h=0.015, hsv_s=0.7, hsv_v=0.4, degrees=0.0, translate=0.1, scale=0.5, shear=0.0, perspective=0.0, flipud=0.0, fliplr=0.5, bgr=0.0, mosaic=1.0, mixup=0.0, copy_paste=0.0, copy_paste_mode=flip, auto_augment=randaugment, erasing=0.4, crop_fraction=1.0, cfg=None, tracker=botsort.yaml, save_dir=yolo-training/yolo_traffic_sign_recognition\n",
      "Downloading https://ultralytics.com/assets/Arial.ttf to '/home/hv/.config/Ultralytics/Arial.ttf'...\n"
     ]
    },
    {
     "name": "stderr",
     "output_type": "stream",
     "text": [
      "100%|█████████████████████████████████████████████████████████████████████████████████| 755k/755k [00:01<00:00, 722kB/s]"
     ]
    },
    {
     "name": "stdout",
     "output_type": "stream",
     "text": [
      "Overriding model.yaml nc=80 with nc=43\n",
      "\n",
      "                   from  n    params  module                                       arguments                     \n",
      "  0                  -1  1       464  ultralytics.nn.modules.conv.Conv             [3, 16, 3, 2]                 \n",
      "  1                  -1  1      4672  ultralytics.nn.modules.conv.Conv             [16, 32, 3, 2]                \n",
      "  2                  -1  1      6640  ultralytics.nn.modules.block.C3k2            [32, 64, 1, False, 0.25]      \n",
      "  3                  -1  1     36992  ultralytics.nn.modules.conv.Conv             [64, 64, 3, 2]                \n",
      "  4                  -1  1     26080  ultralytics.nn.modules.block.C3k2            [64, 128, 1, False, 0.25]     \n",
      "  5                  -1  1    147712  ultralytics.nn.modules.conv.Conv             [128, 128, 3, 2]              \n",
      "  6                  -1  1     87040  ultralytics.nn.modules.block.C3k2            [128, 128, 1, True]           \n",
      "  7                  -1  1    295424  ultralytics.nn.modules.conv.Conv             [128, 256, 3, 2]              \n",
      "  8                  -1  1    346112  ultralytics.nn.modules.block.C3k2            [256, 256, 1, True]           \n",
      "  9                  -1  1    164608  ultralytics.nn.modules.block.SPPF            [256, 256, 5]                 \n",
      " 10                  -1  1    249728  ultralytics.nn.modules.block.C2PSA           [256, 256, 1]                 \n",
      " 11                  -1  1         0  torch.nn.modules.upsampling.Upsample         [None, 2, 'nearest']          \n",
      " 12             [-1, 6]  1         0  ultralytics.nn.modules.conv.Concat           [1]                           \n",
      " 13                  -1  1    111296  ultralytics.nn.modules.block.C3k2            [384, 128, 1, False]          \n",
      " 14                  -1  1         0  torch.nn.modules.upsampling.Upsample         [None, 2, 'nearest']          \n",
      " 15             [-1, 4]  1         0  ultralytics.nn.modules.conv.Concat           [1]                           \n",
      " 16                  -1  1     32096  ultralytics.nn.modules.block.C3k2            [256, 64, 1, False]           \n",
      " 17                  -1  1     36992  ultralytics.nn.modules.conv.Conv             [64, 64, 3, 2]                \n",
      " 18            [-1, 13]  1         0  ultralytics.nn.modules.conv.Concat           [1]                           \n"
     ]
    },
    {
     "name": "stderr",
     "output_type": "stream",
     "text": [
      "\n"
     ]
    },
    {
     "name": "stdout",
     "output_type": "stream",
     "text": [
      " 19                  -1  1     86720  ultralytics.nn.modules.block.C3k2            [192, 128, 1, False]          \n",
      " 20                  -1  1    147712  ultralytics.nn.modules.conv.Conv             [128, 128, 3, 2]              \n",
      " 21            [-1, 10]  1         0  ultralytics.nn.modules.conv.Concat           [1]                           \n",
      " 22                  -1  1    378880  ultralytics.nn.modules.block.C3k2            [384, 256, 1, True]           \n",
      " 23        [16, 19, 22]  1    439057  ultralytics.nn.modules.head.Detect           [43, [64, 128, 256]]          \n",
      "YOLO11n summary: 319 layers, 2,598,225 parameters, 2,598,209 gradients, 6.5 GFLOPs\n",
      "\n",
      "Transferred 448/499 items from pretrained weights\n",
      "Freezing layer 'model.23.dfl.conv.weight'\n",
      "\u001b[34m\u001b[1mAMP: \u001b[0mrunning Automatic Mixed Precision (AMP) checks...\n",
      "\u001b[34m\u001b[1mAMP: \u001b[0mchecks passed ✅\n"
     ]
    },
    {
     "name": "stderr",
     "output_type": "stream",
     "text": [
      "\u001b[34m\u001b[1mtrain: \u001b[0mScanning /home/hv/.cache/kagglehub/datasets/doganozcan/traffic-sign-gtrb/versions/1/train/labels... 39209 images,\u001b[0m\n"
     ]
    },
    {
     "name": "stdout",
     "output_type": "stream",
     "text": [
      "\u001b[34m\u001b[1mtrain: \u001b[0mNew cache created: /home/hv/.cache/kagglehub/datasets/doganozcan/traffic-sign-gtrb/versions/1/train/labels.cache\n"
     ]
    },
    {
     "name": "stderr",
     "output_type": "stream",
     "text": [
      "\u001b[34m\u001b[1mtrain: \u001b[0mCaching images (0.3GB Disk): 100%|██████████| 39209/39209 [00:16<00:00, 2388.91it/s]\u001b[0m\n"
     ]
    },
    {
     "name": "stdout",
     "output_type": "stream",
     "text": [
      "\u001b[34m\u001b[1mAutoBatch: \u001b[0mComputing optimal batch size for imgsz=640 at 60.0% CUDA memory utilization.\n",
      "\u001b[34m\u001b[1mAutoBatch: \u001b[0mCUDA:0 (NVIDIA GeForce RTX 3050 Laptop GPU) 4.00G total, 0.10G reserved, 0.06G allocated, 3.84G free\n",
      "      Params      GFLOPs  GPU_mem (GB)  forward (ms) backward (ms)                   input                  output\n",
      "     2598225       6.486         0.382          71.7         271.7        (1, 3, 640, 640)                    list\n",
      "     2598225       12.97         0.497         112.5         60.39        (2, 3, 640, 640)                    list\n",
      "     2598225       25.94         0.778         52.01         80.21        (4, 3, 640, 640)                    list\n",
      "     2598225       51.89         1.407         52.76         60.47        (8, 3, 640, 640)                    list\n",
      "     2598225       103.8         2.605            85         80.86       (16, 3, 640, 640)                    list\n",
      "\u001b[34m\u001b[1mAutoBatch: \u001b[0mUsing batch-size 16 for CUDA:0 2.51G/4.00G (63%) ✅\n"
     ]
    },
    {
     "name": "stderr",
     "output_type": "stream",
     "text": [
      "\u001b[34m\u001b[1mtrain: \u001b[0mScanning /home/hv/.cache/kagglehub/datasets/doganozcan/traffic-sign-gtrb/versions/1/train/labels.cache... 39209 i\u001b[0m\n",
      "\u001b[34m\u001b[1mtrain: \u001b[0mCaching images (0.3GB Disk): 100%|██████████| 39209/39209 [00:01<00:00, 26125.29it/s]\u001b[0m\n",
      "\u001b[34m\u001b[1mval: \u001b[0mScanning /home/hv/.cache/kagglehub/datasets/doganozcan/traffic-sign-gtrb/versions/1/test/labels... 12630 images, 0 \u001b[0m\n"
     ]
    },
    {
     "name": "stdout",
     "output_type": "stream",
     "text": [
      "\u001b[34m\u001b[1mval: \u001b[0mNew cache created: /home/hv/.cache/kagglehub/datasets/doganozcan/traffic-sign-gtrb/versions/1/test/labels.cache\n"
     ]
    },
    {
     "name": "stderr",
     "output_type": "stream",
     "text": [
      "\u001b[34m\u001b[1mval: \u001b[0mCaching images (0.1GB Disk): 100%|██████████| 12630/12630 [00:05<00:00, 2384.56it/s]\u001b[0m\n"
     ]
    },
    {
     "name": "stdout",
     "output_type": "stream",
     "text": [
      "Plotting labels to yolo-training/yolo_traffic_sign_recognition/labels.jpg... \n",
      "\u001b[34m\u001b[1moptimizer:\u001b[0m 'optimizer=auto' found, ignoring 'lr0=0.01' and 'momentum=0.937' and determining best 'optimizer', 'lr0' and 'momentum' automatically... \n",
      "\u001b[34m\u001b[1moptimizer:\u001b[0m SGD(lr=0.01, momentum=0.9) with parameter groups 81 weight(decay=0.0), 88 weight(decay=0.0005), 87 bias(decay=0.0)\n",
      "Image sizes 640 train, 640 val\n",
      "Using 8 dataloader workers\n",
      "Logging results to \u001b[1myolo-training/yolo_traffic_sign_recognition\u001b[0m\n",
      "Starting training for 50 epochs...\n",
      "\n",
      "      Epoch    GPU_mem   box_loss   cls_loss   dfl_loss  Instances       Size\n"
     ]
    },
    {
     "name": "stderr",
     "output_type": "stream",
     "text": [
      "       1/50      2.53G      1.337      4.587      1.867         45        640:   3%|▎         | 65/2451 [00:31<19:05,  2\n"
     ]
    },
    {
     "ename": "KeyboardInterrupt",
     "evalue": "",
     "output_type": "error",
     "traceback": [
      "\u001b[0;31m---------------------------------------------------------------------------\u001b[0m",
      "\u001b[0;31mKeyboardInterrupt\u001b[0m                         Traceback (most recent call last)",
      "Cell \u001b[0;32mIn[22], line 7\u001b[0m\n\u001b[1;32m      3\u001b[0m YOLO_MODEL \u001b[38;5;241m=\u001b[39m \u001b[38;5;124m\"\u001b[39m\u001b[38;5;124myolo11n.pt\u001b[39m\u001b[38;5;124m\"\u001b[39m\n\u001b[1;32m      5\u001b[0m model \u001b[38;5;241m=\u001b[39m YOLO(YOLO_MODEL)\n\u001b[0;32m----> 7\u001b[0m results \u001b[38;5;241m=\u001b[39m \u001b[43mmodel\u001b[49m\u001b[38;5;241;43m.\u001b[39;49m\u001b[43mtrain\u001b[49m\u001b[43m(\u001b[49m\n\u001b[1;32m      8\u001b[0m \u001b[43m    \u001b[49m\u001b[43mdata\u001b[49m\u001b[38;5;241;43m=\u001b[39;49m\u001b[38;5;28;43mstr\u001b[39;49m\u001b[43m(\u001b[49m\u001b[43mdata_yaml\u001b[49m\u001b[43m)\u001b[49m\u001b[43m,\u001b[49m\n\u001b[1;32m      9\u001b[0m \u001b[43m    \u001b[49m\u001b[43mepochs\u001b[49m\u001b[38;5;241;43m=\u001b[39;49m\u001b[38;5;241;43m50\u001b[39;49m\u001b[43m,\u001b[49m\n\u001b[1;32m     10\u001b[0m \u001b[43m    \u001b[49m\u001b[43mimgsz\u001b[49m\u001b[38;5;241;43m=\u001b[39;49m\u001b[38;5;241;43m640\u001b[39;49m\u001b[43m,\u001b[49m\n\u001b[1;32m     11\u001b[0m \u001b[43m    \u001b[49m\u001b[43mdevice\u001b[49m\u001b[38;5;241;43m=\u001b[39;49m\u001b[38;5;124;43m'\u001b[39;49m\u001b[38;5;124;43mcuda\u001b[39;49m\u001b[38;5;124;43m'\u001b[39;49m\u001b[43m,\u001b[49m\n\u001b[1;32m     12\u001b[0m \u001b[43m    \u001b[49m\u001b[43mbatch\u001b[49m\u001b[38;5;241;43m=\u001b[39;49m\u001b[38;5;241;43m-\u001b[39;49m\u001b[38;5;241;43m1\u001b[39;49m\u001b[43m,\u001b[49m\n\u001b[1;32m     13\u001b[0m \u001b[43m    \u001b[49m\u001b[43mamp\u001b[49m\u001b[38;5;241;43m=\u001b[39;49m\u001b[38;5;28;43;01mTrue\u001b[39;49;00m\u001b[43m,\u001b[49m\n\u001b[1;32m     14\u001b[0m \u001b[43m    \u001b[49m\u001b[43mcache\u001b[49m\u001b[38;5;241;43m=\u001b[39;49m\u001b[38;5;124;43m'\u001b[39;49m\u001b[38;5;124;43mdisk\u001b[39;49m\u001b[38;5;124;43m'\u001b[39;49m\u001b[43m,\u001b[49m\n\u001b[1;32m     15\u001b[0m \u001b[43m    \u001b[49m\u001b[43msave\u001b[49m\u001b[38;5;241;43m=\u001b[39;49m\u001b[38;5;28;43;01mTrue\u001b[39;49;00m\u001b[43m,\u001b[49m\n\u001b[1;32m     16\u001b[0m \u001b[43m    \u001b[49m\u001b[43mpretrained\u001b[49m\u001b[38;5;241;43m=\u001b[39;49m\u001b[38;5;28;43;01mTrue\u001b[39;49;00m\u001b[43m,\u001b[49m\n\u001b[1;32m     17\u001b[0m \u001b[43m    \u001b[49m\u001b[43mproject\u001b[49m\u001b[38;5;241;43m=\u001b[39;49m\u001b[38;5;124;43m\"\u001b[39;49m\u001b[38;5;124;43m./yolo-training\u001b[39;49m\u001b[38;5;124;43m\"\u001b[39;49m\u001b[43m,\u001b[49m\n\u001b[1;32m     18\u001b[0m \u001b[43m    \u001b[49m\u001b[43mname\u001b[49m\u001b[38;5;241;43m=\u001b[39;49m\u001b[38;5;124;43m\"\u001b[39;49m\u001b[38;5;124;43myolo_traffic_sign_recognition\u001b[39;49m\u001b[38;5;124;43m\"\u001b[39;49m\u001b[43m,\u001b[49m\n\u001b[1;32m     19\u001b[0m \u001b[43m    \u001b[49m\u001b[43mexist_ok\u001b[49m\u001b[38;5;241;43m=\u001b[39;49m\u001b[38;5;28;43;01mTrue\u001b[39;49;00m\u001b[43m,\u001b[49m\n\u001b[1;32m     20\u001b[0m \u001b[43m)\u001b[49m\n\u001b[1;32m     22\u001b[0m \u001b[38;5;28mprint\u001b[39m(\u001b[38;5;124m\"\u001b[39m\u001b[38;5;124mTraining Complete\u001b[39m\u001b[38;5;124m\"\u001b[39m)\n\u001b[1;32m     23\u001b[0m model\u001b[38;5;241m.\u001b[39msave(\u001b[38;5;124m\"\u001b[39m\u001b[38;5;124mFinal.pt\u001b[39m\u001b[38;5;124m\"\u001b[39m)\n",
      "File \u001b[0;32m~/AI_ML/AI-ML/lib/python3.12/site-packages/ultralytics/engine/model.py:806\u001b[0m, in \u001b[0;36mModel.train\u001b[0;34m(self, trainer, **kwargs)\u001b[0m\n\u001b[1;32m    803\u001b[0m     \u001b[38;5;28mself\u001b[39m\u001b[38;5;241m.\u001b[39mmodel \u001b[38;5;241m=\u001b[39m \u001b[38;5;28mself\u001b[39m\u001b[38;5;241m.\u001b[39mtrainer\u001b[38;5;241m.\u001b[39mmodel\n\u001b[1;32m    805\u001b[0m \u001b[38;5;28mself\u001b[39m\u001b[38;5;241m.\u001b[39mtrainer\u001b[38;5;241m.\u001b[39mhub_session \u001b[38;5;241m=\u001b[39m \u001b[38;5;28mself\u001b[39m\u001b[38;5;241m.\u001b[39msession  \u001b[38;5;66;03m# attach optional HUB session\u001b[39;00m\n\u001b[0;32m--> 806\u001b[0m \u001b[38;5;28;43mself\u001b[39;49m\u001b[38;5;241;43m.\u001b[39;49m\u001b[43mtrainer\u001b[49m\u001b[38;5;241;43m.\u001b[39;49m\u001b[43mtrain\u001b[49m\u001b[43m(\u001b[49m\u001b[43m)\u001b[49m\n\u001b[1;32m    807\u001b[0m \u001b[38;5;66;03m# Update model and cfg after training\u001b[39;00m\n\u001b[1;32m    808\u001b[0m \u001b[38;5;28;01mif\u001b[39;00m RANK \u001b[38;5;129;01min\u001b[39;00m {\u001b[38;5;241m-\u001b[39m\u001b[38;5;241m1\u001b[39m, \u001b[38;5;241m0\u001b[39m}:\n",
      "File \u001b[0;32m~/AI_ML/AI-ML/lib/python3.12/site-packages/ultralytics/engine/trainer.py:207\u001b[0m, in \u001b[0;36mBaseTrainer.train\u001b[0;34m(self)\u001b[0m\n\u001b[1;32m    204\u001b[0m         ddp_cleanup(\u001b[38;5;28mself\u001b[39m, \u001b[38;5;28mstr\u001b[39m(file))\n\u001b[1;32m    206\u001b[0m \u001b[38;5;28;01melse\u001b[39;00m:\n\u001b[0;32m--> 207\u001b[0m     \u001b[38;5;28;43mself\u001b[39;49m\u001b[38;5;241;43m.\u001b[39;49m\u001b[43m_do_train\u001b[49m\u001b[43m(\u001b[49m\u001b[43mworld_size\u001b[49m\u001b[43m)\u001b[49m\n",
      "File \u001b[0;32m~/AI_ML/AI-ML/lib/python3.12/site-packages/ultralytics/engine/trainer.py:392\u001b[0m, in \u001b[0;36mBaseTrainer._do_train\u001b[0;34m(self, world_size)\u001b[0m\n\u001b[1;32m    390\u001b[0m \u001b[38;5;66;03m# Optimize - https://pytorch.org/docs/master/notes/amp_examples.html\u001b[39;00m\n\u001b[1;32m    391\u001b[0m \u001b[38;5;28;01mif\u001b[39;00m ni \u001b[38;5;241m-\u001b[39m last_opt_step \u001b[38;5;241m>\u001b[39m\u001b[38;5;241m=\u001b[39m \u001b[38;5;28mself\u001b[39m\u001b[38;5;241m.\u001b[39maccumulate:\n\u001b[0;32m--> 392\u001b[0m     \u001b[38;5;28;43mself\u001b[39;49m\u001b[38;5;241;43m.\u001b[39;49m\u001b[43moptimizer_step\u001b[49m\u001b[43m(\u001b[49m\u001b[43m)\u001b[49m\n\u001b[1;32m    393\u001b[0m     last_opt_step \u001b[38;5;241m=\u001b[39m ni\n\u001b[1;32m    395\u001b[0m     \u001b[38;5;66;03m# Timed stopping\u001b[39;00m\n",
      "File \u001b[0;32m~/AI_ML/AI-ML/lib/python3.12/site-packages/ultralytics/engine/trainer.py:593\u001b[0m, in \u001b[0;36mBaseTrainer.optimizer_step\u001b[0;34m(self)\u001b[0m\n\u001b[1;32m    591\u001b[0m \u001b[38;5;28mself\u001b[39m\u001b[38;5;241m.\u001b[39moptimizer\u001b[38;5;241m.\u001b[39mzero_grad()\n\u001b[1;32m    592\u001b[0m \u001b[38;5;28;01mif\u001b[39;00m \u001b[38;5;28mself\u001b[39m\u001b[38;5;241m.\u001b[39mema:\n\u001b[0;32m--> 593\u001b[0m     \u001b[38;5;28;43mself\u001b[39;49m\u001b[38;5;241;43m.\u001b[39;49m\u001b[43mema\u001b[49m\u001b[38;5;241;43m.\u001b[39;49m\u001b[43mupdate\u001b[49m\u001b[43m(\u001b[49m\u001b[38;5;28;43mself\u001b[39;49m\u001b[38;5;241;43m.\u001b[39;49m\u001b[43mmodel\u001b[49m\u001b[43m)\u001b[49m\n",
      "File \u001b[0;32m~/AI_ML/AI-ML/lib/python3.12/site-packages/ultralytics/utils/torch_utils.py:531\u001b[0m, in \u001b[0;36mModelEMA.update\u001b[0;34m(self, model)\u001b[0m\n\u001b[1;32m    529\u001b[0m \u001b[38;5;28;01mif\u001b[39;00m v\u001b[38;5;241m.\u001b[39mdtype\u001b[38;5;241m.\u001b[39mis_floating_point:  \u001b[38;5;66;03m# true for FP16 and FP32\u001b[39;00m\n\u001b[1;32m    530\u001b[0m     v \u001b[38;5;241m*\u001b[39m\u001b[38;5;241m=\u001b[39m d\n\u001b[0;32m--> 531\u001b[0m     v \u001b[38;5;241m+\u001b[39m\u001b[38;5;241m=\u001b[39m (\u001b[38;5;241m1\u001b[39m \u001b[38;5;241m-\u001b[39m d) \u001b[38;5;241m*\u001b[39m \u001b[43mmsd\u001b[49m\u001b[43m[\u001b[49m\u001b[43mk\u001b[49m\u001b[43m]\u001b[49m\u001b[38;5;241;43m.\u001b[39;49m\u001b[43mdetach\u001b[49m\u001b[43m(\u001b[49m\u001b[43m)\u001b[49m\n",
      "\u001b[0;31mKeyboardInterrupt\u001b[0m: "
     ]
    }
   ],
   "source": [
    "from ultralytics import YOLO\n",
    "\n",
    "YOLO_MODEL = \"yolo11n.pt\"\n",
    "\n",
    "model = YOLO(YOLO_MODEL)\n",
    "\n",
    "results = model.train(\n",
    "    data=str(data_yaml),\n",
    "    epochs=50,\n",
    "    imgsz=640,\n",
    "    device='cuda',\n",
    "    batch=-1,\n",
    "    amp=True,\n",
    "    cache='disk',\n",
    "    save=True,\n",
    "    pretrained=True,\n",
    "    project=\"./yolo-training\",\n",
    "    name=\"yolo_traffic_sign_recognition\",\n",
    "    exist_ok=True,\n",
    ")\n",
    "\n",
    "print(\"Training Complete\")\n",
    "model.save(\"Final.pt\")\n"
   ]
  }
 ],
 "metadata": {
  "kernelspec": {
   "display_name": "Python 3 (ipykernel)",
   "language": "python",
   "name": "python3"
  },
  "language_info": {
   "codemirror_mode": {
    "name": "ipython",
    "version": 3
   },
   "file_extension": ".py",
   "mimetype": "text/x-python",
   "name": "python",
   "nbconvert_exporter": "python",
   "pygments_lexer": "ipython3",
   "version": "3.12.3"
  }
 },
 "nbformat": 4,
 "nbformat_minor": 5
}
